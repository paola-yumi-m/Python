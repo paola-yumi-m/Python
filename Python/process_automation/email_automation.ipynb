{
 "cells": [
  {
   "cell_type": "markdown",
   "metadata": {},
   "source": [
    "# Systems and Processes Automation with Python\n",
    "\n",
    "### Challenge:\n",
    "\n",
    "Our system updates the previous day sales everyday.\n",
    "Your job, as an analyst, is to send an e-mail to your boss informing the revenue and the total sold amount of products on the previous day.\n",
    "In this case, the file is located on the Google Drive (https://drive.google.com/drive/folders/149xknr9JvrlEnhNWO49zPcw0PW5icxga) and the e-mail will be sent through Gmail.\n",
    "\n",
    "**OBS1: Positions may vary according to screen resolution.**\n",
    "\n",
    "**OBS2: Gmail may require login.**"
   ]
  },
  {
   "cell_type": "code",
   "execution_count": 1,
   "metadata": {},
   "outputs": [],
   "source": [
    "# Goals:\n",
    "# Open Google Drive and download the file\n",
    "# Calculate the revenues and the sold quantity\n",
    "# Open Gmail and send the e-mail"
   ]
  },
  {
   "cell_type": "markdown",
   "metadata": {},
   "source": [
    "### 1. Importing the libraries"
   ]
  },
  {
   "cell_type": "code",
   "execution_count": 2,
   "metadata": {},
   "outputs": [],
   "source": [
    "import pyautogui as pygui\n",
    "import pyperclip\n",
    "import time\n",
    "import pandas as pd"
   ]
  },
  {
   "cell_type": "markdown",
   "metadata": {},
   "source": [
    "### 2. Downloading the file from Google Drive"
   ]
  },
  {
   "cell_type": "code",
   "execution_count": 5,
   "metadata": {},
   "outputs": [],
   "source": [
    "pygui.alert(\"Your process is going to start. Please wait until it's finished.\")\n",
    "\n",
    "pygui.PAUSE = 0.5\n",
    "pygui.hotkey('ctrl', 't')\n",
    "pyperclip.copy('https://drive.google.com/drive/folders/149xknr9JvrlEnhNWO49zPcw0PW5icxga')\n",
    "pygui.hotkey('ctrl', 'v')\n",
    "pygui.press('enter')\n",
    "\n",
    "time.sleep(3)\n",
    "\n",
    "pygui.click(x=406, y=293, clicks=2)\n",
    "\n",
    "time.sleep(2)\n",
    "\n",
    "pygui.click(x=399, y=348)\n",
    "pygui.click(x=1162, y=188)\n",
    "pygui.click(x=927, y=565)\n",
    "\n",
    "time.sleep(3)"
   ]
  },
  {
   "cell_type": "markdown",
   "metadata": {},
   "source": [
    "### 3. Calculating the revenue and quantity"
   ]
  },
  {
   "cell_type": "code",
   "execution_count": 6,
   "metadata": {},
   "outputs": [],
   "source": [
    "df = pd.read_excel(r'C:\\Users\\User\\Downloads\\Vendas - Dez.xlsx')\n",
    "revenue = df['Valor Final'].sum()\n",
    "quantity = df['Quantidade'].sum()"
   ]
  },
  {
   "cell_type": "markdown",
   "metadata": {},
   "source": [
    "### 4. Send the e-mail"
   ]
  },
  {
   "cell_type": "code",
   "execution_count": 7,
   "metadata": {},
   "outputs": [],
   "source": [
    "pygui.hotkey('ctrl', 't')\n",
    "pyperclip.copy('https://mail.google.com/mail/u/0/?tab=rm&ogbl#inbox')\n",
    "pygui.hotkey('ctrl', 'v')\n",
    "pygui.press('enter')\n",
    "\n",
    "time.sleep(5)\n",
    "\n",
    "pygui.click(x=73, y=195)\n",
    "pygui.write('someemail@gmail.com')\n",
    "pygui.press('tab', presses=2)\n",
    "pygui.write('Sales Report')\n",
    "pygui.press('tab')\n",
    "text = f\"\"\"Good Morning! Today's report:\n",
    "\n",
    "Yesterday's revenue was R${revenue:,.2f}.\n",
    "The total sold amount was {quantity:,} products. \n",
    "\n",
    "Best Regards,\n",
    "Paola\n",
    "\"\"\"\n",
    "pyperclip.copy(text)\n",
    "pygui.hotkey('ctrl', 'v')\n",
    "send = pygui.confirm('Ready to send e-mail?', buttons=['OK', 'Cancel'])\n",
    "if send == 'OK':\n",
    "    pygui.hotkey('ctrl', 'enter')"
   ]
  }
 ],
 "metadata": {
  "kernelspec": {
   "display_name": "Python 3",
   "language": "python",
   "name": "python3"
  },
  "language_info": {
   "codemirror_mode": {
    "name": "ipython",
    "version": 3
   },
   "file_extension": ".py",
   "mimetype": "text/x-python",
   "name": "python",
   "nbconvert_exporter": "python",
   "pygments_lexer": "ipython3",
   "version": "3.9.1"
  }
 },
 "nbformat": 4,
 "nbformat_minor": 4
}
